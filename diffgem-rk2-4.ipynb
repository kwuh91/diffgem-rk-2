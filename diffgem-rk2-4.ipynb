{
 "cells": [
  {
   "cell_type": "markdown",
   "metadata": {},
   "source": [
    "<h3><center>ДГ. Задание 4. Нахождение натурального уравнения кривой по параметрическому.</center></h3>"
   ]
  },
  {
   "cell_type": "code",
   "execution_count": 31,
   "metadata": {},
   "outputs": [],
   "source": [
    "import sympy as sp\n",
    "from IPython.display import display, Markdown"
   ]
  },
  {
   "cell_type": "code",
   "execution_count": 32,
   "metadata": {},
   "outputs": [],
   "source": [
    "def equation(eq):\n",
    "    display(Markdown(f'\\\\begin{{equation*}} {eq} \\\\end{{equation*}}'))"
   ]
  },
  {
   "cell_type": "code",
   "execution_count": 33,
   "metadata": {},
   "outputs": [],
   "source": [
    "t, s, a = sp.symbols('t s a')"
   ]
  },
  {
   "cell_type": "code",
   "execution_count": 34,
   "metadata": {},
   "outputs": [],
   "source": [
    "t0 = sp.pi/2"
   ]
  },
  {
   "cell_type": "code",
   "execution_count": 35,
   "metadata": {},
   "outputs": [
    {
     "data": {
      "text/markdown": [
       "\\begin{equation*} x = \\cos{\\left(t \\right)} \\end{equation*}"
      ],
      "text/plain": [
       "<IPython.core.display.Markdown object>"
      ]
     },
     "metadata": {},
     "output_type": "display_data"
    },
    {
     "data": {
      "text/markdown": [
       "\\begin{equation*} y = \\sin{\\left(t \\right)} \\end{equation*}"
      ],
      "text/plain": [
       "<IPython.core.display.Markdown object>"
      ]
     },
     "metadata": {},
     "output_type": "display_data"
    }
   ],
   "source": [
    "# x = -a * (sp.log(sp.tan(t/2)) + sp.cos(t))\n",
    "# y = a * sp.sin(t)\n",
    "\n",
    "x = sp.cos(t)\n",
    "y = sp.sin(t)\n",
    "\n",
    "equation(f'x = {sp.latex(x)}')\n",
    "equation(f'y = {sp.latex(y)}')"
   ]
  },
  {
   "cell_type": "code",
   "execution_count": 36,
   "metadata": {},
   "outputs": [
    {
     "data": {
      "text/markdown": [
       "\\begin{equation*} x' = - \\sin{\\left(t \\right)} \\end{equation*}"
      ],
      "text/plain": [
       "<IPython.core.display.Markdown object>"
      ]
     },
     "metadata": {},
     "output_type": "display_data"
    },
    {
     "data": {
      "text/markdown": [
       "\\begin{equation*} y' = \\cos{\\left(t \\right)} \\end{equation*}"
      ],
      "text/plain": [
       "<IPython.core.display.Markdown object>"
      ]
     },
     "metadata": {},
     "output_type": "display_data"
    },
    {
     "data": {
      "text/markdown": [
       "\\begin{equation*} x'' = - \\cos{\\left(t \\right)} \\end{equation*}"
      ],
      "text/plain": [
       "<IPython.core.display.Markdown object>"
      ]
     },
     "metadata": {},
     "output_type": "display_data"
    },
    {
     "data": {
      "text/markdown": [
       "\\begin{equation*} y'' = - \\sin{\\left(t \\right)} \\end{equation*}"
      ],
      "text/plain": [
       "<IPython.core.display.Markdown object>"
      ]
     },
     "metadata": {},
     "output_type": "display_data"
    }
   ],
   "source": [
    "x_ = sp.diff(x, t).simplify()\n",
    "x__ = sp.diff(x, t, 2).simplify()\n",
    "y_ = sp.diff(y, t).simplify()\n",
    "y__ = sp.diff(y, t, 2).simplify()\n",
    "\n",
    "equation(f'x\\' = {sp.latex(x_)}')\n",
    "equation(f'y\\' = {sp.latex(y_)}')\n",
    "equation(f'x\\'\\' = {sp.latex(x__)}')\n",
    "equation(f'y\\'\\' = {sp.latex(y__)}')"
   ]
  },
  {
   "cell_type": "code",
   "execution_count": 42,
   "metadata": {},
   "outputs": [
    {
     "data": {
      "text/markdown": [
       "\\begin{equation*} s = \\int\\limits_{\\frac{\\pi}{2}}^{t} \\sqrt{\\sin^{2}{\\left(t \\right)} + \\cos^{2}{\\left(t \\right)}}\\, dt \\end{equation*}"
      ],
      "text/plain": [
       "<IPython.core.display.Markdown object>"
      ]
     },
     "metadata": {},
     "output_type": "display_data"
    },
    {
     "data": {
      "text/markdown": [
       "\\begin{equation*} s = t \\sqrt{\\sin^{2}{\\left(t \\right)} + \\cos^{2}{\\left(t \\right)}} - \\frac{\\pi}{2} \\end{equation*}"
      ],
      "text/plain": [
       "<IPython.core.display.Markdown object>"
      ]
     },
     "metadata": {},
     "output_type": "display_data"
    },
    {
     "data": {
      "text/markdown": [
       "\\begin{equation*} s - t = - \\frac{\\pi}{2} \\end{equation*}"
      ],
      "text/plain": [
       "<IPython.core.display.Markdown object>"
      ]
     },
     "metadata": {},
     "output_type": "display_data"
    }
   ],
   "source": [
    "eq = sp.Eq(s, sp.Integral(sp.sqrt(x_**2 + y_**2), (t, t0, t)))\n",
    "equation(f'{sp.latex(eq)}')\n",
    "\n",
    "eq = sp.Eq(s, sp.integrate(sp.sqrt(x_**2 + y_**2), (t, t0, t)))\n",
    "equation(f'{sp.latex(eq)}')\n",
    "\n",
    "equation(f'{sp.latex(eq.simplify())}')"
   ]
  },
  {
   "cell_type": "code",
   "execution_count": 40,
   "metadata": {},
   "outputs": [
    {
     "data": {
      "text/markdown": [
       "\\begin{equation*} t = s + \\frac{\\pi}{2} \\end{equation*}"
      ],
      "text/plain": [
       "<IPython.core.display.Markdown object>"
      ]
     },
     "metadata": {},
     "output_type": "display_data"
    }
   ],
   "source": [
    "ans = sp.solve(eq, t)\n",
    "equation(f't = {sp.latex(ans[0])}')"
   ]
  },
  {
   "cell_type": "code",
   "execution_count": 44,
   "metadata": {},
   "outputs": [
    {
     "data": {
      "text/markdown": [
       "\\begin{equation*} k(t) = \\frac{\\left|{\\sin^{2}{\\left(t \\right)} + \\cos^{2}{\\left(t \\right)}}\\right|}{\\left(\\sin^{2}{\\left(t \\right)} + \\cos^{2}{\\left(t \\right)}\\right)^{3}} = 1 \\end{equation*}"
      ],
      "text/plain": [
       "<IPython.core.display.Markdown object>"
      ]
     },
     "metadata": {},
     "output_type": "display_data"
    }
   ],
   "source": [
    "k = sp.Abs(x_ * y__ - x__ * y_)/(x_**2 + y_**2)**3\n",
    "equation(f'k(t) = {sp.latex(k)} = {sp.latex(k.simplify())}')"
   ]
  },
  {
   "cell_type": "code",
   "execution_count": null,
   "metadata": {},
   "outputs": [],
   "source": [
    "equation(f'k(s) = {sp.latex(k.subs(t, ans[0]))} = {sp.latex((k.subs(t, ans[0])).simplify())}')"
   ]
  }
 ],
 "metadata": {
  "kernelspec": {
   "display_name": "Python 3",
   "language": "python",
   "name": "python3"
  },
  "language_info": {
   "codemirror_mode": {
    "name": "ipython",
    "version": 3
   },
   "file_extension": ".py",
   "mimetype": "text/x-python",
   "name": "python",
   "nbconvert_exporter": "python",
   "pygments_lexer": "ipython3",
   "version": "3.11.9"
  }
 },
 "nbformat": 4,
 "nbformat_minor": 2
}
