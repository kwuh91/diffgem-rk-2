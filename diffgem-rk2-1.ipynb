{
 "cells": [
  {
   "cell_type": "markdown",
   "metadata": {},
   "source": [
    "<h3><center>ДГ. Задание 1. Нахождение параметрического уравнения кривой по натуральному.</center></h3>"
   ]
  },
  {
   "cell_type": "code",
   "execution_count": 19,
   "metadata": {},
   "outputs": [],
   "source": [
    "import sympy as sp\n",
    "from IPython.display import display, Markdown"
   ]
  },
  {
   "cell_type": "code",
   "execution_count": 20,
   "metadata": {},
   "outputs": [],
   "source": [
    "def equation(eq):\n",
    "    display(Markdown(f'\\\\begin{{equation*}} {eq} \\\\end{{equation*}}'))"
   ]
  },
  {
   "cell_type": "code",
   "execution_count": 21,
   "metadata": {},
   "outputs": [],
   "source": [
    "s = sp.symbols('s')"
   ]
  },
  {
   "cell_type": "code",
   "execution_count": 22,
   "metadata": {},
   "outputs": [],
   "source": [
    "s0 = 0"
   ]
  },
  {
   "cell_type": "code",
   "execution_count": 23,
   "metadata": {},
   "outputs": [
    {
     "data": {
      "text/markdown": [
       "\\begin{equation*} k(s) = \\frac{e^{s}}{e^{2 s} + 1} \\end{equation*}"
      ],
      "text/plain": [
       "<IPython.core.display.Markdown object>"
      ]
     },
     "metadata": {},
     "output_type": "display_data"
    }
   ],
   "source": [
    "k = sp.exp(s)/(1 + sp.exp(2 * s))\n",
    "equation(f'k(s) = {sp.latex(k)}')"
   ]
  },
  {
   "cell_type": "code",
   "execution_count": 24,
   "metadata": {},
   "outputs": [
    {
     "data": {
      "text/markdown": [
       "\\begin{equation*} \\alpha(s) = \\int\\limits_{0}^{s} \\frac{e^{s}}{e^{2 s} + 1}\\, ds = - \\frac{i \\log{\\left(e^{s} - i \\right)}}{2} + \\frac{i \\log{\\left(e^{s} + i \\right)}}{2} - \\frac{i \\left(\\log{\\left(\\sqrt{2} \\right)} + \\frac{i \\pi}{4}\\right)}{2} + \\frac{i \\left(\\log{\\left(\\sqrt{2} \\right)} - \\frac{i \\pi}{4}\\right)}{2} \\end{equation*}"
      ],
      "text/plain": [
       "<IPython.core.display.Markdown object>"
      ]
     },
     "metadata": {},
     "output_type": "display_data"
    }
   ],
   "source": [
    "alpha = sp.Integral(k, (s, s0, s))\n",
    "equation(f'\\\\alpha(s) = {sp.latex(alpha)} = {sp.latex(alpha.doit().simplify())}')\n",
    "alpha = alpha.doit().simplify()"
   ]
  },
  {
   "cell_type": "code",
   "execution_count": 28,
   "metadata": {},
   "outputs": [
    {
     "data": {
      "text/markdown": [
       "\\begin{equation*} r = i(\\int\\limits_{0}^{s} \\cos{\\left(\\frac{i \\log{\\left(e^{s} - i \\right)}}{2} - \\frac{i \\log{\\left(e^{s} + i \\right)}}{2} - \\frac{i \\left(\\log{\\left(\\sqrt{2} \\right)} - \\frac{i \\pi}{4}\\right)}{2} + \\frac{i \\left(\\log{\\left(\\sqrt{2} \\right)} + \\frac{i \\pi}{4}\\right)}{2} \\right)}\\, ds) + j(\\int\\limits_{0}^{s} \\left(- \\sin{\\left(\\frac{i \\log{\\left(e^{s} - i \\right)}}{2} - \\frac{i \\log{\\left(e^{s} + i \\right)}}{2} - \\frac{i \\left(\\log{\\left(\\sqrt{2} \\right)} - \\frac{i \\pi}{4}\\right)}{2} + \\frac{i \\left(\\log{\\left(\\sqrt{2} \\right)} + \\frac{i \\pi}{4}\\right)}{2} \\right)}\\right)\\, ds) \\end{equation*}"
      ],
      "text/plain": [
       "<IPython.core.display.Markdown object>"
      ]
     },
     "metadata": {},
     "output_type": "display_data"
    }
   ],
   "source": [
    "equation(f'r = i({sp.latex(sp.Integral(sp.cos(alpha), (s, s0, s)))}) + j({sp.latex(sp.Integral(sp.sin(alpha), (s, s0, s)))})')\n",
    "equation(f'r = i({sp.latex(sp.integrate(sp.cos(alpha), (s, s0, s)))}) + j({sp.latex(sp.integrate(sp.sin(alpha), (s, s0, s)))})')\n",
    "equation(f'r = i({sp.latex(sp.integrate(sp.cos(alpha), (s, s0, s)).simplify())}) + j({sp.latex(sp.integrate(sp.sin(alpha), (s, s0, s)).simplify())})')"
   ]
  }
 ],
 "metadata": {
  "kernelspec": {
   "display_name": "Python 3",
   "language": "python",
   "name": "python3"
  },
  "language_info": {
   "codemirror_mode": {
    "name": "ipython",
    "version": 3
   },
   "file_extension": ".py",
   "mimetype": "text/x-python",
   "name": "python",
   "nbconvert_exporter": "python",
   "pygments_lexer": "ipython3",
   "version": "3.11.9"
  }
 },
 "nbformat": 4,
 "nbformat_minor": 2
}
