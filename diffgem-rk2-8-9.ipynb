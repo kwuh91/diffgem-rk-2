{
 "cells": [
  {
   "cell_type": "markdown",
   "metadata": {},
   "source": [
    "<h3><center>ДГ. Задание 8. Первая и вторая квадратичные формы поверхности.</center></h3>"
   ]
  },
  {
   "cell_type": "markdown",
   "metadata": {},
   "source": [
    "<h3><center>+</center></h3>"
   ]
  },
  {
   "cell_type": "markdown",
   "metadata": {},
   "source": [
    "<h3><center>ДГ. Задание 9. Кривизны поверхности.</center></h3>"
   ]
  },
  {
   "cell_type": "code",
   "execution_count": 26,
   "metadata": {},
   "outputs": [],
   "source": [
    "import sympy as sp\n",
    "from IPython.display import display, Markdown"
   ]
  },
  {
   "cell_type": "code",
   "execution_count": 27,
   "metadata": {},
   "outputs": [],
   "source": [
    "u, v = sp.symbols('u v')"
   ]
  },
  {
   "cell_type": "code",
   "execution_count": 28,
   "metadata": {},
   "outputs": [
    {
     "data": {
      "text/markdown": [
       "\\begin{equation} r = \\left[\\begin{matrix}\\cos{\\left(v \\right)} \\cosh{\\left(u \\right)}\\\\\\sin{\\left(v \\right)} \\cosh{\\left(u \\right)}\\\\\\sinh{\\left(u \\right)}\\end{matrix}\\right] \\end{equation}"
      ],
      "text/plain": [
       "<IPython.core.display.Markdown object>"
      ]
     },
     "metadata": {},
     "output_type": "display_data"
    },
    {
     "data": {
      "text/markdown": [
       "\\begin{equation} r'_u = \\left[\\begin{matrix}\\cos{\\left(v \\right)} \\sinh{\\left(u \\right)}\\\\\\sin{\\left(v \\right)} \\sinh{\\left(u \\right)}\\\\\\cosh{\\left(u \\right)}\\end{matrix}\\right] \\end{equation}"
      ],
      "text/plain": [
       "<IPython.core.display.Markdown object>"
      ]
     },
     "metadata": {},
     "output_type": "display_data"
    },
    {
     "data": {
      "text/markdown": [
       "\\begin{equation} r'_v = \\left[\\begin{matrix}- \\sin{\\left(v \\right)} \\cosh{\\left(u \\right)}\\\\\\cos{\\left(v \\right)} \\cosh{\\left(u \\right)}\\\\0\\end{matrix}\\right] \\end{equation}"
      ],
      "text/plain": [
       "<IPython.core.display.Markdown object>"
      ]
     },
     "metadata": {},
     "output_type": "display_data"
    },
    {
     "data": {
      "text/markdown": [
       "\\begin{equation} r''_{uu} = \\left[\\begin{matrix}\\cos{\\left(v \\right)} \\cosh{\\left(u \\right)}\\\\\\sin{\\left(v \\right)} \\cosh{\\left(u \\right)}\\\\\\sinh{\\left(u \\right)}\\end{matrix}\\right] \\end{equation}"
      ],
      "text/plain": [
       "<IPython.core.display.Markdown object>"
      ]
     },
     "metadata": {},
     "output_type": "display_data"
    },
    {
     "data": {
      "text/markdown": [
       "\\begin{equation} r''_{vv} = \\left[\\begin{matrix}- \\cos{\\left(v \\right)} \\cosh{\\left(u \\right)}\\\\- \\sin{\\left(v \\right)} \\cosh{\\left(u \\right)}\\\\0\\end{matrix}\\right] \\end{equation}"
      ],
      "text/plain": [
       "<IPython.core.display.Markdown object>"
      ]
     },
     "metadata": {},
     "output_type": "display_data"
    },
    {
     "data": {
      "text/markdown": [
       "\\begin{equation} r''_{uv} = \\left[\\begin{matrix}- \\sin{\\left(v \\right)} \\sinh{\\left(u \\right)}\\\\\\cos{\\left(v \\right)} \\sinh{\\left(u \\right)}\\\\0\\end{matrix}\\right] \\end{equation}"
      ],
      "text/plain": [
       "<IPython.core.display.Markdown object>"
      ]
     },
     "metadata": {},
     "output_type": "display_data"
    }
   ],
   "source": [
    "# r = sp.Matrix([[2*u, sp.cos(u) + v*sp.sin(u), -sp.sin(u)+v*sp.cos(u)]])\n",
    "# r = sp.Matrix([[u*sp.cos(v), u * sp.sin(v), u**3]])\n",
    "r = sp.Matrix([[sp.cosh(u) * sp.cos(v), sp.cosh(u) * sp.sin(v), sp.sinh(u)]])\n",
    "\n",
    "r_u = sp.diff(r, u)\n",
    "r_v = sp.diff(r, v)\n",
    "r__u = sp.diff(r, u, 2)\n",
    "r__v = sp.diff(r, v, 2)\n",
    "r__uv = sp.diff(r, u, v)\n",
    "\n",
    "display(Markdown(f'\\\\begin{{equation}} r = {sp.latex(r.transpose())} \\\\end{{equation}}'))\n",
    "display(Markdown(f'\\\\begin{{equation}} r\\'_u = {sp.latex(r_u.transpose())} \\\\end{{equation}}'))\n",
    "display(Markdown(f'\\\\begin{{equation}} r\\'_v = {sp.latex(r_v.transpose())} \\\\end{{equation}}'))\n",
    "display(Markdown(f'\\\\begin{{equation}} r\\'\\'_{{uu}} = {sp.latex(r__u.transpose())} \\\\end{{equation}}'))\n",
    "display(Markdown(f'\\\\begin{{equation}} r\\'\\'_{{vv}} = {sp.latex(r__v.transpose())} \\\\end{{equation}}'))\n",
    "display(Markdown(f'\\\\begin{{equation}} r\\'\\'_{{uv}} = {sp.latex(r__uv.transpose())} \\\\end{{equation}}'))"
   ]
  },
  {
   "cell_type": "code",
   "execution_count": 29,
   "metadata": {},
   "outputs": [
    {
     "data": {
      "text/markdown": [
       "\\begin{equation} E = \\cosh{\\left(2 u \\right)} \\end{equation}"
      ],
      "text/plain": [
       "<IPython.core.display.Markdown object>"
      ]
     },
     "metadata": {},
     "output_type": "display_data"
    },
    {
     "data": {
      "text/markdown": [
       "\\begin{equation} F = 0 \\end{equation}"
      ],
      "text/plain": [
       "<IPython.core.display.Markdown object>"
      ]
     },
     "metadata": {},
     "output_type": "display_data"
    },
    {
     "data": {
      "text/markdown": [
       "\\begin{equation} G = \\cosh^{2}{\\left(u \\right)} \\end{equation}"
      ],
      "text/plain": [
       "<IPython.core.display.Markdown object>"
      ]
     },
     "metadata": {},
     "output_type": "display_data"
    }
   ],
   "source": [
    "E = r_u.dot(r_u).simplify()\n",
    "F = r_u.dot(r_v).simplify()\n",
    "G = r_v.dot(r_v).simplify()\n",
    "\n",
    "display(Markdown(f'\\\\begin{{equation}} E = {sp.latex(E)} \\\\end{{equation}}'))\n",
    "display(Markdown(f'\\\\begin{{equation}} F = {sp.latex(F)} \\\\end{{equation}}'))\n",
    "display(Markdown(f'\\\\begin{{equation}} G = {sp.latex(G)} \\\\end{{equation}}'))"
   ]
  },
  {
   "cell_type": "code",
   "execution_count": 30,
   "metadata": {},
   "outputs": [
    {
     "data": {
      "text/markdown": [
       "\\begin{equation} ds^2 = (\\cosh{\\left(2 u \\right)}) du^2 + 2 \\cdot (0) dudv + (\\cosh^{2}{\\left(u \\right)}) dv^2 \\end{equation}"
      ],
      "text/plain": [
       "<IPython.core.display.Markdown object>"
      ]
     },
     "metadata": {},
     "output_type": "display_data"
    }
   ],
   "source": [
    "display(Markdown(f'\\\\begin{{equation}} ds^2 = ({sp.latex(E)}) du^2 + 2 \\\\cdot ({sp.latex(F)}) dudv + ({sp.latex(G)}) dv^2 \\\\end{{equation}}'))"
   ]
  },
  {
   "cell_type": "code",
   "execution_count": 31,
   "metadata": {},
   "outputs": [
    {
     "data": {
      "text/markdown": [
       "\\begin{equation} (r'_u, r'_v, r''_{uu}) = \\left[\\begin{matrix}\\cos{\\left(v \\right)} \\sinh{\\left(u \\right)} & \\sin{\\left(v \\right)} \\sinh{\\left(u \\right)} & \\cosh{\\left(u \\right)}\\\\- \\sin{\\left(v \\right)} \\cosh{\\left(u \\right)} & \\cos{\\left(v \\right)} \\cosh{\\left(u \\right)} & 0\\\\\\cos{\\left(v \\right)} \\cosh{\\left(u \\right)} & \\sin{\\left(v \\right)} \\cosh{\\left(u \\right)} & \\sinh{\\left(u \\right)}\\end{matrix}\\right] = \\sin^{2}{\\left(v \\right)} \\sinh^{2}{\\left(u \\right)} \\cosh{\\left(u \\right)} - \\sin^{2}{\\left(v \\right)} \\cosh^{3}{\\left(u \\right)} + \\cos^{2}{\\left(v \\right)} \\sinh^{2}{\\left(u \\right)} \\cosh{\\left(u \\right)} - \\cos^{2}{\\left(v \\right)} \\cosh^{3}{\\left(u \\right)}\\end{equation}"
      ],
      "text/plain": [
       "<IPython.core.display.Markdown object>"
      ]
     },
     "metadata": {},
     "output_type": "display_data"
    },
    {
     "data": {
      "text/markdown": [
       "\\begin{equation} L = - \\frac{\\cosh{\\left(u \\right)}}{\\sqrt{\\cosh^{2}{\\left(u \\right)} \\cosh{\\left(2 u \\right)}}} \\end{equation}"
      ],
      "text/plain": [
       "<IPython.core.display.Markdown object>"
      ]
     },
     "metadata": {},
     "output_type": "display_data"
    }
   ],
   "source": [
    "rurvruu = sp.Matrix([r_u, r_v, r__u])\n",
    "determinant = rurvruu.det()\n",
    "L = (determinant/sp.sqrt(E*G - F**2)).simplify()\n",
    "\n",
    "display(Markdown(f'\\\\begin{{equation}} (r\\'_u, r\\'_v, r\\'\\'_{{uu}}) = {sp.latex(rurvruu)} = {sp.latex(determinant)}\\\\end{{equation}}'))\n",
    "display(Markdown(f'\\\\begin{{equation}} L = {sp.latex(L)} \\\\end{{equation}}'))"
   ]
  },
  {
   "cell_type": "code",
   "execution_count": 32,
   "metadata": {},
   "outputs": [
    {
     "data": {
      "text/markdown": [
       "\\begin{equation} (r'_u, r'_v, r''_{uv}) = \\left[\\begin{matrix}\\cos{\\left(v \\right)} \\sinh{\\left(u \\right)} & \\sin{\\left(v \\right)} \\sinh{\\left(u \\right)} & \\cosh{\\left(u \\right)}\\\\- \\sin{\\left(v \\right)} \\cosh{\\left(u \\right)} & \\cos{\\left(v \\right)} \\cosh{\\left(u \\right)} & 0\\\\- \\sin{\\left(v \\right)} \\sinh{\\left(u \\right)} & \\cos{\\left(v \\right)} \\sinh{\\left(u \\right)} & 0\\end{matrix}\\right] = 0\\end{equation}"
      ],
      "text/plain": [
       "<IPython.core.display.Markdown object>"
      ]
     },
     "metadata": {},
     "output_type": "display_data"
    },
    {
     "data": {
      "text/markdown": [
       "\\begin{equation} M = 0 \\end{equation}"
      ],
      "text/plain": [
       "<IPython.core.display.Markdown object>"
      ]
     },
     "metadata": {},
     "output_type": "display_data"
    }
   ],
   "source": [
    "rurvruv = sp.Matrix([r_u, r_v, r__uv])\n",
    "determinant = rurvruv.det()\n",
    "M = (determinant/sp.sqrt(E*G - F**2)).simplify()\n",
    "\n",
    "display(Markdown(f'\\\\begin{{equation}} (r\\'_u, r\\'_v, r\\'\\'_{{uv}}) = {sp.latex(rurvruv)} = {sp.latex(determinant)}\\\\end{{equation}}'))\n",
    "display(Markdown(f'\\\\begin{{equation}} M = {sp.latex(M)} \\\\end{{equation}}'))"
   ]
  },
  {
   "cell_type": "code",
   "execution_count": 33,
   "metadata": {},
   "outputs": [
    {
     "data": {
      "text/markdown": [
       "\\begin{equation} (r'_u, r'_v, r''_{vv}) = \\left[\\begin{matrix}\\cos{\\left(v \\right)} \\sinh{\\left(u \\right)} & \\sin{\\left(v \\right)} \\sinh{\\left(u \\right)} & \\cosh{\\left(u \\right)}\\\\- \\sin{\\left(v \\right)} \\cosh{\\left(u \\right)} & \\cos{\\left(v \\right)} \\cosh{\\left(u \\right)} & 0\\\\- \\cos{\\left(v \\right)} \\cosh{\\left(u \\right)} & - \\sin{\\left(v \\right)} \\cosh{\\left(u \\right)} & 0\\end{matrix}\\right] = \\sin^{2}{\\left(v \\right)} \\cosh^{3}{\\left(u \\right)} + \\cos^{2}{\\left(v \\right)} \\cosh^{3}{\\left(u \\right)}\\end{equation}"
      ],
      "text/plain": [
       "<IPython.core.display.Markdown object>"
      ]
     },
     "metadata": {},
     "output_type": "display_data"
    },
    {
     "data": {
      "text/markdown": [
       "\\begin{equation} N = \\frac{\\cosh^{3}{\\left(u \\right)}}{\\sqrt{\\cosh^{2}{\\left(u \\right)} \\cosh{\\left(2 u \\right)}}} \\end{equation}"
      ],
      "text/plain": [
       "<IPython.core.display.Markdown object>"
      ]
     },
     "metadata": {},
     "output_type": "display_data"
    }
   ],
   "source": [
    "rurvrvv = sp.Matrix([r_u, r_v, r__v])\n",
    "determinant = rurvrvv.det()\n",
    "N = (determinant/sp.sqrt(E*G - F**2)).simplify()\n",
    "\n",
    "display(Markdown(f'\\\\begin{{equation}} (r\\'_u, r\\'_v, r\\'\\'_{{vv}}) = {sp.latex(rurvrvv)} = {sp.latex(determinant)}\\\\end{{equation}}'))\n",
    "display(Markdown(f'\\\\begin{{equation}} N = {sp.latex(N)} \\\\end{{equation}}'))"
   ]
  },
  {
   "cell_type": "code",
   "execution_count": 34,
   "metadata": {},
   "outputs": [
    {
     "data": {
      "text/markdown": [
       "\\begin{equation} \\varphi = (- \\frac{\\cosh{\\left(u \\right)}}{\\sqrt{\\cosh^{2}{\\left(u \\right)} \\cosh{\\left(2 u \\right)}}}) du^2 + 2 \\cdot (0) dudv + (\\frac{\\cosh^{3}{\\left(u \\right)}}{\\sqrt{\\cosh^{2}{\\left(u \\right)} \\cosh{\\left(2 u \\right)}}}) dv^2 \\end{equation}"
      ],
      "text/plain": [
       "<IPython.core.display.Markdown object>"
      ]
     },
     "metadata": {},
     "output_type": "display_data"
    }
   ],
   "source": [
    "display(Markdown(f'\\\\begin{{equation}} \\\\varphi = ({sp.latex(L)}) du^2 + 2 \\\\cdot ({sp.latex(M)}) dudv + ({sp.latex(N)}) dv^2 \\\\end{{equation}}'))"
   ]
  },
  {
   "cell_type": "code",
   "execution_count": 35,
   "metadata": {},
   "outputs": [],
   "source": [
    "def equation(eq):\n",
    "    display(Markdown(f'\\\\begin{{equation*}} {eq} \\\\end{{equation*}}'))"
   ]
  },
  {
   "cell_type": "code",
   "execution_count": 36,
   "metadata": {},
   "outputs": [
    {
     "data": {
      "text/markdown": [
       "\\begin{equation*} K = - \\frac{1}{\\cosh^{2}{\\left(2 u \\right)}} = - \\frac{1}{\\cosh^{2}{\\left(2 u \\right)}} \\end{equation*}"
      ],
      "text/plain": [
       "<IPython.core.display.Markdown object>"
      ]
     },
     "metadata": {},
     "output_type": "display_data"
    }
   ],
   "source": [
    "K =  (L * N - M**2)/(E * G - F**2)\n",
    "equation(f'K = {sp.latex(K)} = {sp.latex(K.simplify())}')\n",
    "K = K.simplify()"
   ]
  },
  {
   "cell_type": "code",
   "execution_count": 37,
   "metadata": {},
   "outputs": [
    {
     "data": {
      "text/markdown": [
       "\\begin{equation*} H = \\frac{\\frac{\\cosh^{3}{\\left(u \\right)} \\cosh{\\left(2 u \\right)}}{\\sqrt{\\cosh^{2}{\\left(u \\right)} \\cosh{\\left(2 u \\right)}}} - \\frac{\\cosh^{3}{\\left(u \\right)}}{\\sqrt{\\cosh^{2}{\\left(u \\right)} \\cosh{\\left(2 u \\right)}}}}{2 \\cosh^{2}{\\left(u \\right)} \\cosh{\\left(2 u \\right)}} = \\frac{\\left(\\cosh{\\left(2 u \\right)} - 1\\right) \\cosh{\\left(u \\right)}}{2 \\sqrt{\\cosh^{2}{\\left(u \\right)} \\cosh{\\left(2 u \\right)}} \\cosh{\\left(2 u \\right)}} \\end{equation*}"
      ],
      "text/plain": [
       "<IPython.core.display.Markdown object>"
      ]
     },
     "metadata": {},
     "output_type": "display_data"
    }
   ],
   "source": [
    "H =  (E * N + G * L - 2 * M * F)/(2*(E * G - F**2))\n",
    "equation(f'H = {sp.latex(H)} = {sp.latex(H.simplify())}')\n",
    "H = H.simplify()"
   ]
  },
  {
   "cell_type": "code",
   "execution_count": 38,
   "metadata": {},
   "outputs": [],
   "source": [
    "k = sp.symbols('k')"
   ]
  },
  {
   "cell_type": "code",
   "execution_count": 39,
   "metadata": {},
   "outputs": [
    {
     "data": {
      "text/markdown": [
       "\\begin{equation*} k^{2} - \\frac{k \\left(\\cosh{\\left(2 u \\right)} - 1\\right) \\cosh{\\left(u \\right)}}{\\sqrt{\\cosh^{2}{\\left(u \\right)} \\cosh{\\left(2 u \\right)}} \\cosh{\\left(2 u \\right)}} - \\frac{1}{\\cosh^{2}{\\left(2 u \\right)}} = 0 \\end{equation*}"
      ],
      "text/plain": [
       "<IPython.core.display.Markdown object>"
      ]
     },
     "metadata": {},
     "output_type": "display_data"
    },
    {
     "data": {
      "text/plain": [
       "[cosh(u)/sqrt(cosh(u)**2*cosh(2*u)),\n",
       " -cosh(u)/(sqrt(cosh(u)**2*cosh(2*u))*cosh(2*u))]"
      ]
     },
     "execution_count": 39,
     "metadata": {},
     "output_type": "execute_result"
    }
   ],
   "source": [
    "eq = sp.Eq(k**2 - 2 * H * k + K, 0)\n",
    "equation(f'{sp.latex(eq)}')"
   ]
  },
  {
   "cell_type": "code",
   "execution_count": 40,
   "metadata": {},
   "outputs": [
    {
     "data": {
      "text/markdown": [
       "\\begin{equation*} k_1 = \\frac{\\cosh{\\left(u \\right)}}{\\sqrt{\\cosh^{2}{\\left(u \\right)} \\cosh{\\left(2 u \\right)}}} = \\frac{\\cosh{\\left(u \\right)}}{\\sqrt{\\cosh^{2}{\\left(u \\right)} \\cosh{\\left(2 u \\right)}}} \\end{equation*}"
      ],
      "text/plain": [
       "<IPython.core.display.Markdown object>"
      ]
     },
     "metadata": {},
     "output_type": "display_data"
    },
    {
     "data": {
      "text/markdown": [
       "\\begin{equation*} k_2 = - \\frac{\\cosh{\\left(u \\right)}}{\\sqrt{\\cosh^{2}{\\left(u \\right)} \\cosh{\\left(2 u \\right)}} \\cosh{\\left(2 u \\right)}} = - \\frac{\\cosh{\\left(u \\right)}}{\\sqrt{\\cosh^{2}{\\left(u \\right)} \\cosh{\\left(2 u \\right)}} \\cosh{\\left(2 u \\right)}} \\end{equation*}"
      ],
      "text/plain": [
       "<IPython.core.display.Markdown object>"
      ]
     },
     "metadata": {},
     "output_type": "display_data"
    }
   ],
   "source": [
    "ans = sp.solve(eq, k)\n",
    "k1 = ans[0]\n",
    "k2 = ans[1]\n",
    "\n",
    "equation(f'k_1 = {sp.latex(k1)} = {sp.latex(k1.simplify())}')\n",
    "equation(f'k_2 = {sp.latex(k2)} = {sp.latex(k2.simplify())}')"
   ]
  },
  {
   "cell_type": "code",
   "execution_count": 45,
   "metadata": {},
   "outputs": [
    {
     "data": {
      "text/markdown": [
       "\\begin{equation*} \\texrtrm{проверка}: k_{max}k_{min} == K \\end{equation*}"
      ],
      "text/plain": [
       "<IPython.core.display.Markdown object>"
      ]
     },
     "metadata": {},
     "output_type": "display_data"
    },
    {
     "data": {
      "text/markdown": [
       "\\begin{equation*} - \\frac{1}{\\cosh^{2}{\\left(2 u \\right)}} == - \\frac{1}{\\cosh^{2}{\\left(2 u \\right)}} \\end{equation*}"
      ],
      "text/plain": [
       "<IPython.core.display.Markdown object>"
      ]
     },
     "metadata": {},
     "output_type": "display_data"
    },
    {
     "data": {
      "text/markdown": [
       "\\begin{equation*} \\text{True} \\end{equation*}"
      ],
      "text/plain": [
       "<IPython.core.display.Markdown object>"
      ]
     },
     "metadata": {},
     "output_type": "display_data"
    }
   ],
   "source": [
    "equation(f'\\\\textrm{{проверка}}: k_{{max}}k_{{min}} == K')\n",
    "equation(f'{sp.latex((k1*k2).simplify())} == {sp.latex(K)}')\n",
    "equation(f'{sp.latex((k1*k2).simplify() == K)}')\n"
   ]
  }
 ],
 "metadata": {
  "kernelspec": {
   "display_name": "Python 3",
   "language": "python",
   "name": "python3"
  },
  "language_info": {
   "codemirror_mode": {
    "name": "ipython",
    "version": 3
   },
   "file_extension": ".py",
   "mimetype": "text/x-python",
   "name": "python",
   "nbconvert_exporter": "python",
   "pygments_lexer": "ipython3",
   "version": "3.11.9"
  }
 },
 "nbformat": 4,
 "nbformat_minor": 2
}
